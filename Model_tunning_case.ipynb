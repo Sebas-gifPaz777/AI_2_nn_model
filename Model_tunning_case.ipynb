{
  "cells": [
    {
      "cell_type": "markdown",
      "metadata": {
        "id": "view-in-github",
        "colab_type": "text"
      },
      "source": [
        "<a href=\"https://colab.research.google.com/github/Sebas-gifPaz777/AI_2_nn_model/blob/main/Model_tunning_case.ipynb\" target=\"_parent\"><img src=\"https://colab.research.google.com/assets/colab-badge.svg\" alt=\"Open In Colab\"/></a>"
      ]
    },
    {
      "cell_type": "code",
      "execution_count": 2,
      "metadata": {
        "colab": {
          "base_uri": "https://localhost:8080/",
          "height": 35
        },
        "id": "Pp-nw9SoXV1X",
        "outputId": "97095e00-f206-4f93-94c2-fb155a738d3d"
      },
      "outputs": [
        {
          "output_type": "execute_result",
          "data": {
            "text/plain": [
              "'3.4.1'"
            ],
            "application/vnd.google.colaboratory.intrinsic+json": {
              "type": "string"
            }
          },
          "metadata": {},
          "execution_count": 2
        }
      ],
      "source": [
        "import keras\n",
        "from PIL import Image\n",
        "import numpy as np\n",
        "import matplotlib.pyplot as plt\n",
        "import random\n",
        "import scipy\n",
        "from tensorflow.keras.datasets import mnist\n",
        "from scipy import ndimage\n",
        "import numpy as np\n",
        "import os\n",
        "keras.__version__"
      ]
    },
    {
      "cell_type": "markdown",
      "metadata": {
        "id": "UGIDx8B1XV1Z"
      },
      "source": [
        "# Model Tunning"
      ]
    },
    {
      "cell_type": "markdown",
      "source": [
        "##Loading respective data"
      ],
      "metadata": {
        "id": "Acwe1YuN85w7"
      }
    },
    {
      "cell_type": "code",
      "source": [
        "def load_dataset():\n",
        "  (x_train, y_train), (x_test, y_test) = mnist.load_data()\n",
        "\n",
        "  # Filtrar solo imágenes de 0 y 1\n",
        "  train_filter = np.where((y_train == 0) | (y_train == 1))\n",
        "  test_filter = np.where((y_test == 0) | (y_test == 1))\n",
        "\n",
        "  x_train, y_train = x_train[train_filter], y_train[train_filter]\n",
        "  x_test, y_test = x_test[test_filter], y_test[test_filter]\n",
        "\n",
        "  return  x_train, y_train, x_test, y_test"
      ],
      "metadata": {
        "id": "M_OD8WgPSMJQ"
      },
      "execution_count": 3,
      "outputs": []
    },
    {
      "cell_type": "code",
      "source": [
        "# Values are assigned to each set\n",
        "train_x_origin, train_y_origin, test_x_origin, test_y_origin = load_dataset()"
      ],
      "metadata": {
        "id": "DWTwIrSIR_Nu"
      },
      "execution_count": 4,
      "outputs": []
    },
    {
      "cell_type": "code",
      "source": [
        "plt.imshow(train_x_origin[9], cmap='gray')\n",
        "plt.title(f'Label: {train_y_origin[9]}')\n",
        "plt.axis('off')\n",
        "plt.show()"
      ],
      "metadata": {
        "colab": {
          "base_uri": "https://localhost:8080/",
          "height": 428
        },
        "id": "N46tSiCOa92W",
        "outputId": "d58f1985-e783-4bca-fc52-6f0caaca6c79"
      },
      "execution_count": 5,
      "outputs": [
        {
          "output_type": "display_data",
          "data": {
            "text/plain": [
              "<Figure size 640x480 with 1 Axes>"
            ],
            "image/png": "[encoded data removed]"
          },
          "metadata": {}
        }
      ]
    },
    {
      "cell_type": "code",
      "source": [
        "## Shape of each set\n",
        "print(f'Train dataset shape: {train_x_origin.shape}')\n",
        "print(f'Train labels dataset shape: {train_y_origin.shape}')\n",
        "print(f'Test dataset shape: {test_x_origin.shape}')\n",
        "print(f'Test labeals dataset shape: {test_y_origin.shape}')"
      ],
      "metadata": {
        "colab": {
          "base_uri": "https://localhost:8080/"
        },
        "id": "G0jwbVOpKRdI",
        "outputId": "961dd0d3-9a0b-4c34-c7e9-4c0e3541c70b"
      },
      "execution_count": 6,
      "outputs": [
        {
          "output_type": "stream",
          "name": "stdout",
          "text": [
            "Train dataset shape: (12665, 28, 28)\n",
            "Train labels dataset shape: (12665,)\n",
            "Test dataset shape: (2115, 28, 28)\n",
            "Test labeals dataset shape: (2115,)\n"
          ]
        }
      ]
    },
    {
      "cell_type": "code",
      "source": [
        "# Modfying all sets (shapes and data type)\n",
        "train_y_origin = np.asarray(train_y_origin).astype('float32')\n",
        "test_y_origin = np.asarray(test_y_origin).astype('float32')\n",
        "\n",
        "train_x_origin = train_x_origin.reshape(train_x_origin.shape[0], -1)\n",
        "test_x_origin = test_x_origin.reshape(test_x_origin.shape[0], -1)\n",
        "print(f'Train dataset new shape: {train_x_origin.shape}')\n",
        "print(f'Train inputs: {train_x_origin.shape[1]}')\n"
      ],
      "metadata": {
        "id": "BRs3Lp6Al_m1",
        "colab": {
          "base_uri": "https://localhost:8080/"
        },
        "outputId": "70802b2d-50f6-4fa0-edee-c259cb683fdc"
      },
      "execution_count": 7,
      "outputs": [
        {
          "output_type": "stream",
          "name": "stdout",
          "text": [
            "Train dataset new shape: (12665, 784)\n",
            "Train inputs: 784\n"
          ]
        }
      ]
    },
    {
      "cell_type": "markdown",
      "source": [
        "##Model Creation"
      ],
      "metadata": {
        "id": "r0XD03zg-icy"
      }
    },
    {
      "cell_type": "code",
      "execution_count": 8,
      "metadata": {
        "collapsed": true,
        "id": "WDB5Wg1sXV1d",
        "colab": {
          "base_uri": "https://localhost:8080/"
        },
        "outputId": "36cf0c25-0fff-4e55-af61-f32d97eb4c94"
      },
      "outputs": [
        {
          "output_type": "stream",
          "name": "stderr",
          "text": [
            "/usr/local/lib/python3.10/dist-packages/keras/src/layers/core/dense.py:87: UserWarning: Do not pass an `input_shape`/`input_dim` argument to a layer. When using Sequential models, prefer using an `Input(shape)` object as the first layer in the model instead.\n",
            "  super().__init__(activity_regularizer=activity_regularizer, **kwargs)\n"
          ]
        }
      ],
      "source": [
        "from keras import models\n",
        "from keras.layers import Dense\n",
        "from keras import layers\n",
        "\n",
        "original_model = models.Sequential()\n",
        "original_model.add(Dense(16, activation='relu', input_shape=(train_x_origin.shape[1],)))\n",
        "original_model.add(Dense(16, activation='relu'))\n",
        "original_model.add(Dense(1, activation='sigmoid'))\n",
        "\n",
        "original_model.compile(optimizer='rmsprop',\n",
        "                       loss='binary_crossentropy',\n",
        "                       metrics=['acc'])"
      ]
    },
    {
      "cell_type": "code",
      "execution_count": 9,
      "metadata": {
        "colab": {
          "base_uri": "https://localhost:8080/"
        },
        "id": "t4_W819wXV1d",
        "outputId": "e8e4c24e-78d3-4f80-e974-19239e504edf"
      },
      "outputs": [
        {
          "output_type": "stream",
          "name": "stdout",
          "text": [
            "Epoch 1/20\n",
            "\u001b[1m25/25\u001b[0m \u001b[32m━━━━━━━━━━━━━━━━━━━━\u001b[0m\u001b[37m\u001b[0m \u001b[1m1s\u001b[0m 13ms/step - acc: 0.9000 - loss: 2.4037 - val_acc: 0.9967 - val_loss: 0.0309\n",
            "Epoch 2/20\n",
            "\u001b[1m25/25\u001b[0m \u001b[32m━━━━━━━━━━━━━━━━━━━━\u001b[0m\u001b[37m\u001b[0m \u001b[1m0s\u001b[0m 8ms/step - acc: 0.9935 - loss: 0.0686 - val_acc: 0.9976 - val_loss: 0.0102\n",
            "Epoch 3/20\n",
            "\u001b[1m25/25\u001b[0m \u001b[32m━━━━━━━━━━━━━━━━━━━━\u001b[0m\u001b[37m\u001b[0m \u001b[1m0s\u001b[0m 5ms/step - acc: 0.9965 - loss: 0.0219 - val_acc: 0.9957 - val_loss: 0.0280\n",
            "Epoch 4/20\n",
            "\u001b[1m25/25\u001b[0m \u001b[32m━━━━━━━━━━━━━━━━━━━━\u001b[0m\u001b[37m\u001b[0m \u001b[1m0s\u001b[0m 6ms/step - acc: 0.9988 - loss: 0.0078 - val_acc: 0.9986 - val_loss: 0.0155\n",
            "Epoch 5/20\n",
            "\u001b[1m25/25\u001b[0m \u001b[32m━━━━━━━━━━━━━━━━━━━━\u001b[0m\u001b[37m\u001b[0m \u001b[1m0s\u001b[0m 6ms/step - acc: 0.9994 - loss: 0.0027 - val_acc: 0.9986 - val_loss: 0.0043\n",
            "Epoch 6/20\n",
            "\u001b[1m25/25\u001b[0m \u001b[32m━━━━━━━━━━━━━━━━━━━━\u001b[0m\u001b[37m\u001b[0m \u001b[1m0s\u001b[0m 7ms/step - acc: 0.9982 - loss: 0.0177 - val_acc: 0.9967 - val_loss: 0.0239\n",
            "Epoch 7/20\n",
            "\u001b[1m25/25\u001b[0m \u001b[32m━━━━━━━━━━━━━━━━━━━━\u001b[0m\u001b[37m\u001b[0m \u001b[1m0s\u001b[0m 5ms/step - acc: 0.9995 - loss: 0.0037 - val_acc: 0.9995 - val_loss: 5.9446e-04\n",
            "Epoch 8/20\n",
            "\u001b[1m25/25\u001b[0m \u001b[32m━━━━━━━━━━━━━━━━━━━━\u001b[0m\u001b[37m\u001b[0m \u001b[1m0s\u001b[0m 6ms/step - acc: 0.9998 - loss: 3.0221e-04 - val_acc: 0.9943 - val_loss: 0.0640\n",
            "Epoch 9/20\n",
            "\u001b[1m25/25\u001b[0m \u001b[32m━━━━━━━━━━━━━━━━━━━━\u001b[0m\u001b[37m\u001b[0m \u001b[1m0s\u001b[0m 6ms/step - acc: 0.9989 - loss: 0.0134 - val_acc: 0.9995 - val_loss: 0.0032\n",
            "Epoch 10/20\n",
            "\u001b[1m25/25\u001b[0m \u001b[32m━━━━━━━━━━━━━━━━━━━━\u001b[0m\u001b[37m\u001b[0m \u001b[1m0s\u001b[0m 5ms/step - acc: 0.9997 - loss: 0.0020 - val_acc: 0.9995 - val_loss: 5.5178e-04\n",
            "Epoch 11/20\n",
            "\u001b[1m25/25\u001b[0m \u001b[32m━━━━━━━━━━━━━━━━━━━━\u001b[0m\u001b[37m\u001b[0m \u001b[1m0s\u001b[0m 5ms/step - acc: 0.9999 - loss: 9.4616e-05 - val_acc: 0.9995 - val_loss: 0.0030\n",
            "Epoch 12/20\n",
            "\u001b[1m25/25\u001b[0m \u001b[32m━━━━━━━━━━━━━━━━━━━━\u001b[0m\u001b[37m\u001b[0m \u001b[1m0s\u001b[0m 5ms/step - acc: 1.0000 - loss: 2.6103e-07 - val_acc: 0.9995 - val_loss: 0.0029\n",
            "Epoch 13/20\n",
            "\u001b[1m25/25\u001b[0m \u001b[32m━━━━━━━━━━━━━━━━━━━━\u001b[0m\u001b[37m\u001b[0m \u001b[1m0s\u001b[0m 6ms/step - acc: 1.0000 - loss: 1.4900e-07 - val_acc: 0.9995 - val_loss: 0.0026\n",
            "Epoch 14/20\n",
            "\u001b[1m25/25\u001b[0m \u001b[32m━━━━━━━━━━━━━━━━━━━━\u001b[0m\u001b[37m\u001b[0m \u001b[1m0s\u001b[0m 7ms/step - acc: 1.0000 - loss: 7.0862e-08 - val_acc: 0.9995 - val_loss: 0.0025\n",
            "Epoch 15/20\n",
            "\u001b[1m25/25\u001b[0m \u001b[32m━━━━━━━━━━━━━━━━━━━━\u001b[0m\u001b[37m\u001b[0m \u001b[1m0s\u001b[0m 5ms/step - acc: 1.0000 - loss: 5.6295e-08 - val_acc: 0.9995 - val_loss: 0.0024\n",
            "Epoch 16/20\n",
            "\u001b[1m25/25\u001b[0m \u001b[32m━━━━━━━━━━━━━━━━━━━━\u001b[0m\u001b[37m\u001b[0m \u001b[1m0s\u001b[0m 6ms/step - acc: 1.0000 - loss: 4.0083e-08 - val_acc: 0.9995 - val_loss: 0.0024\n",
            "Epoch 17/20\n",
            "\u001b[1m25/25\u001b[0m \u001b[32m━━━━━━━━━━━━━━━━━━━━\u001b[0m\u001b[37m\u001b[0m \u001b[1m0s\u001b[0m 5ms/step - acc: 1.0000 - loss: 1.7924e-08 - val_acc: 0.9995 - val_loss: 0.0024\n",
            "Epoch 18/20\n",
            "\u001b[1m25/25\u001b[0m \u001b[32m━━━━━━━━━━━━━━━━━━━━\u001b[0m\u001b[37m\u001b[0m \u001b[1m0s\u001b[0m 6ms/step - acc: 1.0000 - loss: 1.7024e-08 - val_acc: 0.9995 - val_loss: 0.0023\n",
            "Epoch 19/20\n",
            "\u001b[1m25/25\u001b[0m \u001b[32m━━━━━━━━━━━━━━━━━━━━\u001b[0m\u001b[37m\u001b[0m \u001b[1m0s\u001b[0m 5ms/step - acc: 1.0000 - loss: 2.2902e-08 - val_acc: 0.9995 - val_loss: 0.0023\n",
            "Epoch 20/20\n",
            "\u001b[1m25/25\u001b[0m \u001b[32m━━━━━━━━━━━━━━━━━━━━\u001b[0m\u001b[37m\u001b[0m \u001b[1m0s\u001b[0m 5ms/step - acc: 1.0000 - loss: 2.5571e-08 - val_acc: 0.9995 - val_loss: 0.0023\n"
          ]
        }
      ],
      "source": [
        "original_hist = original_model.fit(train_x_origin, train_y_origin,\n",
        "                                   epochs=20,\n",
        "                                   batch_size=512,\n",
        "                                   validation_data=(test_x_origin, test_y_origin))"
      ]
    },
    {
      "cell_type": "markdown",
      "source": [
        "##Applying regularizers (l2)"
      ],
      "metadata": {
        "id": "dc4oVJo3-pjz"
      }
    },
    {
      "cell_type": "code",
      "execution_count": 10,
      "metadata": {
        "collapsed": true,
        "id": "g0XJXHnHXV1g"
      },
      "outputs": [],
      "source": [
        "from keras import regularizers\n",
        "\n",
        "value = train_x_origin[1]\n",
        "l2_model = models.Sequential()\n",
        "l2_model.add(layers.Dense(16, activation='relu',kernel_regularizer=regularizers.L2(0.001)))\n",
        "l2_model.add(layers.Dense(16,\n",
        "                          activation='relu',kernel_regularizer=regularizers.l2(0.001)))\n",
        "l2_model.add(layers.Dense(1, activation='sigmoid'))"
      ]
    },
    {
      "cell_type": "code",
      "execution_count": 11,
      "metadata": {
        "collapsed": true,
        "id": "FXZK8v5JXV1g"
      },
      "outputs": [],
      "source": [
        "l2_model.compile(optimizer='rmsprop',\n",
        "                 loss='binary_crossentropy',\n",
        "                 metrics=['acc'])"
      ]
    },
    {
      "cell_type": "code",
      "execution_count": 12,
      "metadata": {
        "id": "0hKJt13hXV1g",
        "outputId": "861fd30a-eddd-4552-b735-ed9164e8d651",
        "colab": {
          "base_uri": "https://localhost:8080/"
        }
      },
      "outputs": [
        {
          "output_type": "stream",
          "name": "stdout",
          "text": [
            "Epoch 1/20\n",
            "\u001b[1m25/25\u001b[0m \u001b[32m━━━━━━━━━━━━━━━━━━━━\u001b[0m\u001b[37m\u001b[0m \u001b[1m2s\u001b[0m 24ms/step - acc: 0.8728 - loss: 3.6572 - val_acc: 0.9924 - val_loss: 0.1517\n",
            "Epoch 2/20\n",
            "\u001b[1m25/25\u001b[0m \u001b[32m━━━━━━━━━━━━━━━━━━━━\u001b[0m\u001b[37m\u001b[0m \u001b[1m0s\u001b[0m 9ms/step - acc: 0.9964 - loss: 0.0857 - val_acc: 0.9948 - val_loss: 0.1257\n",
            "Epoch 3/20\n",
            "\u001b[1m25/25\u001b[0m \u001b[32m━━━━━━━━━━━━━━━━━━━━\u001b[0m\u001b[37m\u001b[0m \u001b[1m0s\u001b[0m 9ms/step - acc: 0.9983 - loss: 0.0531 - val_acc: 0.9976 - val_loss: 0.0761\n",
            "Epoch 4/20\n",
            "\u001b[1m25/25\u001b[0m \u001b[32m━━━━━━━━━━━━━━━━━━━━\u001b[0m\u001b[37m\u001b[0m \u001b[1m0s\u001b[0m 11ms/step - acc: 0.9996 - loss: 0.0418 - val_acc: 0.9967 - val_loss: 0.0841\n",
            "Epoch 5/20\n",
            "\u001b[1m25/25\u001b[0m \u001b[32m━━━━━━━━━━━━━━━━━━━━\u001b[0m\u001b[37m\u001b[0m \u001b[1m0s\u001b[0m 6ms/step - acc: 0.9987 - loss: 0.0458 - val_acc: 0.9972 - val_loss: 0.0975\n",
            "Epoch 6/20\n",
            "\u001b[1m25/25\u001b[0m \u001b[32m━━━━━━━━━━━━━━━━━━━━\u001b[0m\u001b[37m\u001b[0m \u001b[1m0s\u001b[0m 5ms/step - acc: 0.9993 - loss: 0.0399 - val_acc: 0.9972 - val_loss: 0.0658\n",
            "Epoch 7/20\n",
            "\u001b[1m25/25\u001b[0m \u001b[32m━━━━━━━━━━━━━━━━━━━━\u001b[0m\u001b[37m\u001b[0m \u001b[1m0s\u001b[0m 6ms/step - acc: 0.9997 - loss: 0.0358 - val_acc: 0.9995 - val_loss: 0.0548\n",
            "Epoch 8/20\n",
            "\u001b[1m25/25\u001b[0m \u001b[32m━━━━━━━━━━━━━━━━━━━━\u001b[0m\u001b[37m\u001b[0m \u001b[1m0s\u001b[0m 7ms/step - acc: 0.9990 - loss: 0.0418 - val_acc: 0.9981 - val_loss: 0.0539\n",
            "Epoch 9/20\n",
            "\u001b[1m25/25\u001b[0m \u001b[32m━━━━━━━━━━━━━━━━━━━━\u001b[0m\u001b[37m\u001b[0m \u001b[1m0s\u001b[0m 5ms/step - acc: 0.9997 - loss: 0.0306 - val_acc: 0.9972 - val_loss: 0.0674\n",
            "Epoch 10/20\n",
            "\u001b[1m25/25\u001b[0m \u001b[32m━━━━━━━━━━━━━━━━━━━━\u001b[0m\u001b[37m\u001b[0m \u001b[1m0s\u001b[0m 5ms/step - acc: 0.9999 - loss: 0.0283 - val_acc: 0.9981 - val_loss: 0.0563\n",
            "Epoch 11/20\n",
            "\u001b[1m25/25\u001b[0m \u001b[32m━━━━━━━━━━━━━━━━━━━━\u001b[0m\u001b[37m\u001b[0m \u001b[1m0s\u001b[0m 6ms/step - acc: 0.9998 - loss: 0.0274 - val_acc: 0.9981 - val_loss: 0.0694\n",
            "Epoch 12/20\n",
            "\u001b[1m25/25\u001b[0m \u001b[32m━━━━━━━━━━━━━━━━━━━━\u001b[0m\u001b[37m\u001b[0m \u001b[1m0s\u001b[0m 7ms/step - acc: 0.9999 - loss: 0.0257 - val_acc: 0.9976 - val_loss: 0.0688\n",
            "Epoch 13/20\n",
            "\u001b[1m25/25\u001b[0m \u001b[32m━━━━━━━━━━━━━━━━━━━━\u001b[0m\u001b[37m\u001b[0m \u001b[1m0s\u001b[0m 5ms/step - acc: 0.9995 - loss: 0.0345 - val_acc: 0.9986 - val_loss: 0.0410\n",
            "Epoch 14/20\n",
            "\u001b[1m25/25\u001b[0m \u001b[32m━━━━━━━━━━━━━━━━━━━━\u001b[0m\u001b[37m\u001b[0m \u001b[1m0s\u001b[0m 5ms/step - acc: 1.0000 - loss: 0.0224 - val_acc: 0.9986 - val_loss: 0.0454\n",
            "Epoch 15/20\n",
            "\u001b[1m25/25\u001b[0m \u001b[32m━━━━━━━━━━━━━━━━━━━━\u001b[0m\u001b[37m\u001b[0m \u001b[1m0s\u001b[0m 6ms/step - acc: 1.0000 - loss: 0.0214 - val_acc: 0.9986 - val_loss: 0.0495\n",
            "Epoch 16/20\n",
            "\u001b[1m25/25\u001b[0m \u001b[32m━━━━━━━━━━━━━━━━━━━━\u001b[0m\u001b[37m\u001b[0m \u001b[1m0s\u001b[0m 6ms/step - acc: 1.0000 - loss: 0.0199 - val_acc: 0.9981 - val_loss: 0.0262\n",
            "Epoch 17/20\n",
            "\u001b[1m25/25\u001b[0m \u001b[32m━━━━━━━━━━━━━━━━━━━━\u001b[0m\u001b[37m\u001b[0m \u001b[1m0s\u001b[0m 5ms/step - acc: 0.9997 - loss: 0.0232 - val_acc: 0.9981 - val_loss: 0.0470\n",
            "Epoch 18/20\n",
            "\u001b[1m25/25\u001b[0m \u001b[32m━━━━━━━━━━━━━━━━━━━━\u001b[0m\u001b[37m\u001b[0m \u001b[1m0s\u001b[0m 5ms/step - acc: 0.9997 - loss: 0.0195 - val_acc: 0.9986 - val_loss: 0.0316\n",
            "Epoch 19/20\n",
            "\u001b[1m25/25\u001b[0m \u001b[32m━━━━━━━━━━━━━━━━━━━━\u001b[0m\u001b[37m\u001b[0m \u001b[1m0s\u001b[0m 5ms/step - acc: 0.9996 - loss: 0.0200 - val_acc: 0.9991 - val_loss: 0.0298\n",
            "Epoch 20/20\n",
            "\u001b[1m25/25\u001b[0m \u001b[32m━━━━━━━━━━━━━━━━━━━━\u001b[0m\u001b[37m\u001b[0m \u001b[1m0s\u001b[0m 5ms/step - acc: 0.9999 - loss: 0.0196 - val_acc: 0.9986 - val_loss: 0.0381\n"
          ]
        }
      ],
      "source": [
        "l2_model_hist = l2_model.fit(train_x_origin, train_y_origin,\n",
        "                             epochs=20,\n",
        "                             batch_size=512,\n",
        "                             validation_data=(test_x_origin, test_y_origin))"
      ]
    },
    {
      "cell_type": "markdown",
      "metadata": {
        "id": "iXQzABYYXV1g"
      },
      "source": [
        "## Adding dropout"
      ]
    },
    {
      "cell_type": "code",
      "execution_count": 13,
      "metadata": {
        "collapsed": true,
        "id": "kAxu9jBNXV1h"
      },
      "outputs": [],
      "source": [
        "dpt_model = models.Sequential()\n",
        "dpt_model.add(layers.Dense(16, activation='relu', input_shape=(train_x_origin.shape[1],)))\n",
        "dpt_model.add(layers.Dropout(0.5))\n",
        "dpt_model.add(layers.Dense(16, activation='relu'))\n",
        "dpt_model.add(layers.Dropout(0.5))\n",
        "dpt_model.add(layers.Dense(1, activation='sigmoid'))\n",
        "\n",
        "dpt_model.compile(optimizer='rmsprop',\n",
        "                  loss='binary_crossentropy',\n",
        "                  metrics=['acc'])"
      ]
    },
    {
      "cell_type": "code",
      "execution_count": 14,
      "metadata": {
        "id": "jK9iDBHJXV1q",
        "outputId": "386d42e3-50f6-45b2-d61e-a397ab1470f8",
        "colab": {
          "base_uri": "https://localhost:8080/"
        }
      },
      "outputs": [
        {
          "output_type": "stream",
          "name": "stdout",
          "text": [
            "Epoch 1/20\n",
            "\u001b[1m25/25\u001b[0m \u001b[32m━━━━━━━━━━━━━━━━━━━━\u001b[0m\u001b[37m\u001b[0m \u001b[1m1s\u001b[0m 14ms/step - acc: 0.7812 - loss: 11.8245 - val_acc: 0.9972 - val_loss: 0.0310\n",
            "Epoch 2/20\n",
            "\u001b[1m25/25\u001b[0m \u001b[32m━━━━━━━━━━━━━━━━━━━━\u001b[0m\u001b[37m\u001b[0m \u001b[1m0s\u001b[0m 6ms/step - acc: 0.8617 - loss: 0.4743 - val_acc: 0.9967 - val_loss: 0.0286\n",
            "Epoch 3/20\n",
            "\u001b[1m25/25\u001b[0m \u001b[32m━━━━━━━━━━━━━━━━━━━━\u001b[0m\u001b[37m\u001b[0m \u001b[1m0s\u001b[0m 6ms/step - acc: 0.8662 - loss: 0.3202 - val_acc: 0.9976 - val_loss: 0.0265\n",
            "Epoch 4/20\n",
            "\u001b[1m25/25\u001b[0m \u001b[32m━━━━━━━━━━━━━━━━━━━━\u001b[0m\u001b[37m\u001b[0m \u001b[1m0s\u001b[0m 7ms/step - acc: 0.8946 - loss: 0.2561 - val_acc: 0.9976 - val_loss: 0.0225\n",
            "Epoch 5/20\n",
            "\u001b[1m25/25\u001b[0m \u001b[32m━━━━━━━━━━━━━━━━━━━━\u001b[0m\u001b[37m\u001b[0m \u001b[1m0s\u001b[0m 6ms/step - acc: 0.9013 - loss: 0.2211 - val_acc: 0.9981 - val_loss: 0.0126\n",
            "Epoch 6/20\n",
            "\u001b[1m25/25\u001b[0m \u001b[32m━━━━━━━━━━━━━━━━━━━━\u001b[0m\u001b[37m\u001b[0m \u001b[1m0s\u001b[0m 5ms/step - acc: 0.9174 - loss: 0.2348 - val_acc: 0.9981 - val_loss: 0.0127\n",
            "Epoch 7/20\n",
            "\u001b[1m25/25\u001b[0m \u001b[32m━━━━━━━━━━━━━━━━━━━━\u001b[0m\u001b[37m\u001b[0m \u001b[1m0s\u001b[0m 7ms/step - acc: 0.9298 - loss: 0.1859 - val_acc: 0.9986 - val_loss: 0.0124\n",
            "Epoch 8/20\n",
            "\u001b[1m25/25\u001b[0m \u001b[32m━━━━━━━━━━━━━━━━━━━━\u001b[0m\u001b[37m\u001b[0m \u001b[1m0s\u001b[0m 5ms/step - acc: 0.9291 - loss: 0.1650 - val_acc: 0.9972 - val_loss: 0.0100\n",
            "Epoch 9/20\n",
            "\u001b[1m25/25\u001b[0m \u001b[32m━━━━━━━━━━━━━━━━━━━━\u001b[0m\u001b[37m\u001b[0m \u001b[1m0s\u001b[0m 6ms/step - acc: 0.9274 - loss: 0.1714 - val_acc: 0.9986 - val_loss: 0.0126\n",
            "Epoch 10/20\n",
            "\u001b[1m25/25\u001b[0m \u001b[32m━━━━━━━━━━━━━━━━━━━━\u001b[0m\u001b[37m\u001b[0m \u001b[1m0s\u001b[0m 6ms/step - acc: 0.9417 - loss: 0.1330 - val_acc: 0.9981 - val_loss: 0.0175\n",
            "Epoch 11/20\n",
            "\u001b[1m25/25\u001b[0m \u001b[32m━━━━━━━━━━━━━━━━━━━━\u001b[0m\u001b[37m\u001b[0m \u001b[1m0s\u001b[0m 6ms/step - acc: 0.9391 - loss: 0.1369 - val_acc: 0.9991 - val_loss: 0.0101\n",
            "Epoch 12/20\n",
            "\u001b[1m25/25\u001b[0m \u001b[32m━━━━━━━━━━━━━━━━━━━━\u001b[0m\u001b[37m\u001b[0m \u001b[1m0s\u001b[0m 7ms/step - acc: 0.9424 - loss: 0.1209 - val_acc: 0.9991 - val_loss: 0.0111\n",
            "Epoch 13/20\n",
            "\u001b[1m25/25\u001b[0m \u001b[32m━━━━━━━━━━━━━━━━━━━━\u001b[0m\u001b[37m\u001b[0m \u001b[1m0s\u001b[0m 6ms/step - acc: 0.9452 - loss: 0.1218 - val_acc: 0.9991 - val_loss: 0.0080\n",
            "Epoch 14/20\n",
            "\u001b[1m25/25\u001b[0m \u001b[32m━━━━━━━━━━━━━━━━━━━━\u001b[0m\u001b[37m\u001b[0m \u001b[1m0s\u001b[0m 6ms/step - acc: 0.9478 - loss: 0.1152 - val_acc: 0.9986 - val_loss: 0.0080\n",
            "Epoch 15/20\n",
            "\u001b[1m25/25\u001b[0m \u001b[32m━━━━━━━━━━━━━━━━━━━━\u001b[0m\u001b[37m\u001b[0m \u001b[1m0s\u001b[0m 7ms/step - acc: 0.9571 - loss: 0.1047 - val_acc: 0.9991 - val_loss: 0.0106\n",
            "Epoch 16/20\n",
            "\u001b[1m25/25\u001b[0m \u001b[32m━━━━━━━━━━━━━━━━━━━━\u001b[0m\u001b[37m\u001b[0m \u001b[1m0s\u001b[0m 6ms/step - acc: 0.9590 - loss: 0.1098 - val_acc: 0.9991 - val_loss: 0.0035\n",
            "Epoch 17/20\n",
            "\u001b[1m25/25\u001b[0m \u001b[32m━━━━━━━━━━━━━━━━━━━━\u001b[0m\u001b[37m\u001b[0m \u001b[1m0s\u001b[0m 6ms/step - acc: 0.9594 - loss: 0.1060 - val_acc: 0.9991 - val_loss: 0.0048\n",
            "Epoch 18/20\n",
            "\u001b[1m25/25\u001b[0m \u001b[32m━━━━━━━━━━━━━━━━━━━━\u001b[0m\u001b[37m\u001b[0m \u001b[1m0s\u001b[0m 6ms/step - acc: 0.9624 - loss: 0.1060 - val_acc: 0.9991 - val_loss: 0.0064\n",
            "Epoch 19/20\n",
            "\u001b[1m25/25\u001b[0m \u001b[32m━━━━━━━━━━━━━━━━━━━━\u001b[0m\u001b[37m\u001b[0m \u001b[1m0s\u001b[0m 10ms/step - acc: 0.9616 - loss: 0.0985 - val_acc: 0.9991 - val_loss: 0.0107\n",
            "Epoch 20/20\n",
            "\u001b[1m25/25\u001b[0m \u001b[32m━━━━━━━━━━━━━━━━━━━━\u001b[0m\u001b[37m\u001b[0m \u001b[1m0s\u001b[0m 8ms/step - acc: 0.9642 - loss: 0.0961 - val_acc: 0.9991 - val_loss: 0.0073\n"
          ]
        }
      ],
      "source": [
        "dpt_model_hist = dpt_model.fit(train_x_origin, train_y_origin,\n",
        "                               epochs=20,\n",
        "                               batch_size=512,\n",
        "                               validation_data=(test_x_origin, test_y_origin))"
      ]
    },
    {
      "cell_type": "markdown",
      "metadata": {
        "id": "T6uEKy_WXV1q"
      },
      "source": [
        "Results plotted and validation loss compared between models"
      ]
    },
    {
      "cell_type": "code",
      "execution_count": 15,
      "metadata": {
        "collapsed": true,
        "id": "d6zqoQ2MXV1e"
      },
      "outputs": [],
      "source": [
        "epochs = range(1, 21)\n",
        "original_val_loss = original_hist.history['val_loss']\n",
        "l2_model_val = l2_model_hist.history['val_loss']\n",
        "dpt_model_val = dpt_model_hist.history['val_loss']\n"
      ]
    },
    {
      "cell_type": "code",
      "execution_count": 16,
      "metadata": {
        "colab": {
          "base_uri": "https://localhost:8080/",
          "height": 449
        },
        "id": "MgIoiN_oXV1e",
        "outputId": "aaa246e5-75d8-42ec-fa2b-b51a782022a8"
      },
      "outputs": [
        {
          "output_type": "display_data",
          "data": {
            "text/plain": [
              "<Figure size 640x480 with 1 Axes>"
            ],
            "image/png": "[encoded data removed]"
          },
          "metadata": {}
        }
      ],
      "source": [
        "import matplotlib.pyplot as plt\n",
        "\n",
        "# b+ is for \"blue cross\"\n",
        "plt.plot(epochs, original_val_loss, 'bo', label='Original model')\n",
        "# \"bo\" is for \"blue dot\"\n",
        "plt.plot(epochs, l2_model_val, 'go', label='Regularization model')\n",
        "plt.plot(epochs, dpt_model_val, 'ro', label='Dropout model')\n",
        "plt.xlabel('Epochs')\n",
        "plt.ylabel('Validation loss')\n",
        "plt.legend()\n",
        "\n",
        "plt.show()"
      ]
    },
    {
      "cell_type": "markdown",
      "source": [
        "Using GridSearch to determinate the best hyperparameters"
      ],
      "metadata": {
        "id": "_0gNaE2h_dAB"
      }
    },
    {
      "cell_type": "code",
      "source": [
        "from sklearn.model_selection import GridSearchCV\n",
        "from sklearn.base import BaseEstimator, ClassifierMixin"
      ],
      "metadata": {
        "id": "KvPElixkmi4m"
      },
      "execution_count": 17,
      "outputs": []
    },
    {
      "cell_type": "code",
      "source": [
        "# Creation of classifier class to use the GridSearch\n",
        "class KerasClassifierCustom(BaseEstimator, ClassifierMixin):\n",
        "    def __init__(self, optimizer='rmsprop', epochs=20, batch_size=512):\n",
        "        self.optimizer = optimizer\n",
        "        self.epochs = epochs\n",
        "        self.batch_size = batch_size\n",
        "        self.model = None\n",
        "\n",
        "    def build_model(self):\n",
        "        model =models.Sequential()\n",
        "        model.add(Dense(16, input_shape=(train_x_origin.shape[1],), activation='relu'))\n",
        "        model.add(Dense(16, activation='relu'))\n",
        "        model.add(Dense(1, activation='sigmoid'))\n",
        "        model.compile(loss='binary_crossentropy', optimizer=self.optimizer, metrics=['accuracy'])\n",
        "        return model\n",
        "\n",
        "    def fit(self, X, y):\n",
        "        self.model = self.build_model()\n",
        "        self.model.fit(X, y, epochs=self.epochs, batch_size=self.batch_size, verbose=0)\n",
        "        return self\n",
        "\n",
        "    def predict(self, X):\n",
        "        return (self.model.predict(X) > 0.5).astype(\"int32\")\n",
        "\n",
        "    def score(self, X, y):\n",
        "        loss, accuracy = self.model.evaluate(X, y, verbose=0)\n",
        "        return accuracy"
      ],
      "metadata": {
        "id": "6TD89M20xYTL"
      },
      "execution_count": 18,
      "outputs": []
    },
    {
      "cell_type": "code",
      "source": [
        "model = KerasClassifierCustom()\n",
        "\n",
        "# Definir los hiperparámetros a buscar\n",
        "param_grid = {\n",
        "    'batch_size': [16,32,128,512],\n",
        "    'epochs': [10,20,30],\n",
        "    'optimizer': ['adam', 'rmsprop']\n",
        "}\n",
        "\n",
        "# Ejecutar Grid Search\n",
        "grid = GridSearchCV(estimator=model, param_grid=param_grid, n_jobs=-1, cv=3)\n",
        "grid_result = grid.fit(train_x_origin, train_y_origin)\n",
        "\n",
        "# Mostrar los mejores hiperparámetros encontrados\n",
        "print(f\"Best result: {grid_result.best_score_} using {grid_result.best_params_}\")"
      ],
      "metadata": {
        "colab": {
          "base_uri": "https://localhost:8080/"
        },
        "id": "oCmaIk8Iojei",
        "outputId": "d721d56a-d8fa-45cb-fa5b-0c0351b1422c"
      },
      "execution_count": 19,
      "outputs": [
        {
          "output_type": "stream",
          "name": "stderr",
          "text": [
            "/usr/local/lib/python3.10/dist-packages/joblib/externals/loky/backend/fork_exec.py:38: RuntimeWarning: os.fork() was called. os.fork() is incompatible with multithreaded code, and JAX is multithreaded, so this will likely lead to a deadlock.\n",
            "  pid = os.fork()\n",
            "/usr/local/lib/python3.10/dist-packages/joblib/externals/loky/backend/fork_exec.py:38: RuntimeWarning: os.fork() was called. os.fork() is incompatible with multithreaded code, and JAX is multithreaded, so this will likely lead to a deadlock.\n",
            "  pid = os.fork()\n",
            "/usr/local/lib/python3.10/dist-packages/joblib/externals/loky/process_executor.py:752: UserWarning: A worker stopped while some jobs were given to the executor. This can be caused by a too short worker timeout or by a memory leak.\n",
            "  warnings.warn(\n",
            "/usr/local/lib/python3.10/dist-packages/keras/src/layers/core/dense.py:87: UserWarning: Do not pass an `input_shape`/`input_dim` argument to a layer. When using Sequential models, prefer using an `Input(shape)` object as the first layer in the model instead.\n",
            "  super().__init__(activity_regularizer=activity_regularizer, **kwargs)\n"
          ]
        },
        {
          "output_type": "stream",
          "name": "stdout",
          "text": [
            "Best result: 0.9990525643030802 using {'batch_size': 32, 'epochs': 20, 'optimizer': 'rmsprop'}\n"
          ]
        }
      ]
    }
  ],
  "metadata": {
    "kernelspec": {
      "display_name": "Python 3",
      "language": "python",
      "name": "python3"
    },
    "language_info": {
      "codemirror_mode": {
        "name": "ipython",
        "version": 3
      },
      "file_extension": ".py",
      "mimetype": "text/x-python",
      "name": "python",
      "nbconvert_exporter": "python",
      "pygments_lexer": "ipython3",
      "version": "3.5.2"
    },
    "colab": {
      "provenance": [],
      "include_colab_link": true
    }
  },
  "nbformat": 4,
  "nbformat_minor": 0
}